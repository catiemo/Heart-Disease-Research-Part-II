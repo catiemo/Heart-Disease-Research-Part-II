{
 "cells": [
  {
   "cell_type": "markdown",
   "id": "7a4474d3",
   "metadata": {},
   "source": [
    "### Importing Libraries"
   ]
  },
  {
   "cell_type": "code",
   "execution_count": 1,
   "id": "062b6e3c",
   "metadata": {},
   "outputs": [],
   "source": [
    "import pandas as pd\n",
    "import numpy as np\n",
    "import matplotlib.pyplot as plt \n",
    "import seaborn as sns"
   ]
  },
  {
   "cell_type": "markdown",
   "id": "50ba7db3",
   "metadata": {},
   "source": [
    "### Reading csv file"
   ]
  },
  {
   "cell_type": "code",
   "execution_count": 2,
   "id": "c4673d71",
   "metadata": {},
   "outputs": [],
   "source": [
    "# load data\n",
    "heart = pd.read_csv('heart_disease.csv')\n",
    "heart.head()"
   ]
  },
  {
   "cell_type": "markdown",
   "id": "6e592903",
   "metadata": {},
   "source": [
    "### Box plots of thalach for patients who were and were not diagnosed with heart disease"
   ]
  },
  {
   "cell_type": "code",
   "execution_count": 32,
   "id": "037ad95c",
   "metadata": {},
   "outputs": [
    {
     "data": {
      "image/png": "[encoded data removed]",
      "text/plain": [
       "<Figure size 432x288 with 1 Axes>"
      ]
     },
     "metadata": {
      "needs_background": "light"
     },
     "output_type": "display_data"
    }
   ],
   "source": [
    "sns.boxplot(data = heart, x = 'heart_disease', y = 'thalach')\n",
    "plt.show()"
   ]
  },
  {
   "cell_type": "markdown",
   "id": "8a56bd6b",
   "metadata": {},
   "source": [
    "### Filtering heart dataframe for thalach among patients who were diagnosed with heart disease"
   ]
  },
  {
   "cell_type": "code",
   "execution_count": 33,
   "id": "61908a4d",
   "metadata": {},
   "outputs": [
    {
     "data": {
      "text/plain": [
       "1    108.0\n",
       "2    129.0\n",
       "6    160.0\n",
       "8    147.0\n",
       "9    155.0\n",
       "Name: thalach, dtype: float64"
      ]
     },
     "execution_count": 33,
     "metadata": {},
     "output_type": "execute_result"
    }
   ],
   "source": [
    "thalach_hd = heart.thalach[heart.heart_disease == 'presence']\n",
    "thalach_hd.head()"
   ]
  },
  {
   "cell_type": "markdown",
   "id": "11e78ee7",
   "metadata": {},
   "source": [
    "### Filtering heart dataframe for thalach among patients who were not diagnosed with heart disease"
   ]
  },
  {
   "cell_type": "code",
   "execution_count": 34,
   "id": "b3217158",
   "metadata": {},
   "outputs": [
    {
     "data": {
      "text/plain": [
       "0    150.0\n",
       "3    187.0\n",
       "4    172.0\n",
       "5    178.0\n",
       "7    163.0\n",
       "Name: thalach, dtype: float64"
      ]
     },
     "execution_count": 34,
     "metadata": {},
     "output_type": "execute_result"
    }
   ],
   "source": [
    "thalach_no_hd = heart.thalach[heart.heart_disease == 'absence']\n",
    "thalach_no_hd.head()"
   ]
  },
  {
   "cell_type": "markdown",
   "id": "e86ebe50",
   "metadata": {},
   "source": [
    "### Difference in mean thalach for patients diagnosed with heart disease compared to patients without heart disease"
   ]
  },
  {
   "cell_type": "code",
   "execution_count": 35,
   "id": "d077c8a6",
   "metadata": {},
   "outputs": [
    {
     "data": {
      "text/plain": [
       "-19.11905597473242"
      ]
     },
     "execution_count": 35,
     "metadata": {},
     "output_type": "execute_result"
    }
   ],
   "source": [
    "difference_in_mean = thalach_hd.mean() - thalach_no_hd.mean()\n",
    "difference_in_mean"
   ]
  },
  {
   "cell_type": "markdown",
   "id": "f63cf8a3",
   "metadata": {},
   "source": [
    "### Difference in median thalach for patients diagnosed with heart disease compared to patients without heart disease"
   ]
  },
  {
   "cell_type": "code",
   "execution_count": 36,
   "id": "0b29a429",
   "metadata": {},
   "outputs": [
    {
     "data": {
      "text/plain": [
       "-19.0"
      ]
     },
     "execution_count": 36,
     "metadata": {},
     "output_type": "execute_result"
    }
   ],
   "source": [
    "difference_in_median = thalach_hd.median() - thalach_no_hd.median()\n",
    "difference_in_median"
   ]
  },
  {
   "cell_type": "markdown",
   "id": "020bb623",
   "metadata": {},
   "source": [
    "### Hypothesis to check if the average thalach of a heart disease patient is significantly different from the average thalach for a person without heart disease"
   ]
  },
  {
   "cell_type": "code",
   "execution_count": 8,
   "id": "33a5e581",
   "metadata": {},
   "outputs": [
    {
     "name": "stdout",
     "output_type": "stream",
     "text": [
      "3.456964908430172e-14\n"
     ]
    }
   ],
   "source": [
    "from scipy.stats import ttest_ind\n",
    "tstat, pval = ttest_ind(thalach_hd, thalach_no_hd)\n",
    "pval"
   ]
  },
  {
   "cell_type": "markdown",
   "id": "91b73311",
   "metadata": {},
   "source": [
    "### Box plots of age for patients who were and were not diagnosed with heart disease"
   ]
  },
  {
   "cell_type": "code",
   "execution_count": 37,
   "id": "1da871b0",
   "metadata": {},
   "outputs": [
    {
     "data": {
      "image/png": "[encoded data removed]",
      "text/plain": [
       "<Figure size 432x288 with 1 Axes>"
      ]
     },
     "metadata": {
      "needs_background": "light"
     },
     "output_type": "display_data"
    }
   ],
   "source": [
    "plt.clf()\n",
    "sns.boxplot(data = heart, x = 'heart_disease', y = 'age')\n",
    "plt.show()"
   ]
  },
  {
   "cell_type": "markdown",
   "id": "b6c0da46",
   "metadata": {},
   "source": [
    "### Filtering heart dataframe for ages among patients who were diagnosed with heart disease"
   ]
  },
  {
   "cell_type": "code",
   "execution_count": 38,
   "id": "53988ada",
   "metadata": {},
   "outputs": [
    {
     "data": {
      "text/plain": [
       "1    67.0\n",
       "2    67.0\n",
       "6    62.0\n",
       "8    63.0\n",
       "9    53.0\n",
       "Name: age, dtype: float64"
      ]
     },
     "execution_count": 38,
     "metadata": {},
     "output_type": "execute_result"
    }
   ],
   "source": [
    "age_hd = heart.age[heart.heart_disease == 'presence']\n",
    "age_hd.head()"
   ]
  },
  {
   "cell_type": "markdown",
   "id": "33e89a02",
   "metadata": {},
   "source": [
    "### Filtering heart dataframe for ages among patients who were not diagnosed with heart disease"
   ]
  },
  {
   "cell_type": "code",
   "execution_count": 39,
   "id": "dc38252d",
   "metadata": {},
   "outputs": [
    {
     "data": {
      "text/plain": [
       "0    63.0\n",
       "3    37.0\n",
       "4    41.0\n",
       "5    56.0\n",
       "7    57.0\n",
       "Name: age, dtype: float64"
      ]
     },
     "execution_count": 39,
     "metadata": {},
     "output_type": "execute_result"
    }
   ],
   "source": [
    "age_no_hd = heart.age[heart.heart_disease == 'absence']\n",
    "age_no_hd.head()"
   ]
  },
  {
   "cell_type": "markdown",
   "id": "4d649134",
   "metadata": {},
   "source": [
    "### Difference in mean age for patients diagnosed with heart disease compared to patients without heart disease"
   ]
  },
  {
   "cell_type": "code",
   "execution_count": 40,
   "id": "822076b2",
   "metadata": {},
   "outputs": [
    {
     "data": {
      "text/plain": [
       "4.040533426917001"
      ]
     },
     "execution_count": 40,
     "metadata": {},
     "output_type": "execute_result"
    }
   ],
   "source": [
    "difference_in_mean = age_hd.mean() - age_no_hd.mean()\n",
    "difference_in_mean"
   ]
  },
  {
   "cell_type": "markdown",
   "id": "fa3ddea4",
   "metadata": {},
   "source": [
    "### Difference in median age for patients diagnosed with heart disease compared to patients without heart disease"
   ]
  },
  {
   "cell_type": "code",
   "execution_count": 13,
   "id": "86bcfc49",
   "metadata": {},
   "outputs": [
    {
     "name": "stdout",
     "output_type": "stream",
     "text": [
      "6.0\n"
     ]
    }
   ],
   "source": [
    "difference_in_median = age_hd.median() - age_no_hd.median()\n",
    "difference_in_median"
   ]
  },
  {
   "cell_type": "markdown",
   "id": "6daa3673",
   "metadata": {},
   "source": [
    "### Hypothesis to check if the average age of a heart disease patient is significantly different from the average age for a person without heart disease"
   ]
  },
  {
   "cell_type": "code",
   "execution_count": 14,
   "id": "b12cf06f",
   "metadata": {},
   "outputs": [
    {
     "name": "stdout",
     "output_type": "stream",
     "text": [
      "8.955636917529706e-05\n"
     ]
    }
   ],
   "source": [
    "from scipy.stats import ttest_ind\n",
    "tstat, pval = ttest_ind(age_hd, age_no_hd)\n",
    "pval"
   ]
  },
  {
   "cell_type": "markdown",
   "id": "f4b47cb9",
   "metadata": {},
   "source": [
    "### Box plots of cholestrol for patients who were and were not diagnosed with heart disease"
   ]
  },
  {
   "cell_type": "code",
   "execution_count": 41,
   "id": "0cac9511",
   "metadata": {},
   "outputs": [
    {
     "data": {
      "image/png": "[encoded data removed]",
      "text/plain": [
       "<Figure size 432x288 with 1 Axes>"
      ]
     },
     "metadata": {
      "needs_background": "light"
     },
     "output_type": "display_data"
    }
   ],
   "source": [
    "plt.clf()\n",
    "\n",
    "sns.boxplot(data = heart, x = 'heart_disease', y = 'chol')\n",
    "plt.show()"
   ]
  },
  {
   "cell_type": "markdown",
   "id": "ce6f7871",
   "metadata": {},
   "source": [
    "### Filtering heart dataframe for cholestrol among patients who were diagnosed with heart disease"
   ]
  },
  {
   "cell_type": "code",
   "execution_count": 42,
   "id": "cf6fe890",
   "metadata": {},
   "outputs": [
    {
     "data": {
      "text/plain": [
       "1    286.0\n",
       "2    229.0\n",
       "6    268.0\n",
       "8    254.0\n",
       "9    203.0\n",
       "Name: chol, dtype: float64"
      ]
     },
     "execution_count": 42,
     "metadata": {},
     "output_type": "execute_result"
    }
   ],
   "source": [
    "chol_hd = heart.chol[heart.heart_disease == 'presence']\n",
    "chol_hd.head()"
   ]
  },
  {
   "cell_type": "markdown",
   "id": "e7afc5da",
   "metadata": {},
   "source": [
    "### Filtering heart dataframe for cholestrol among patients who were not diagnosed with heart disease"
   ]
  },
  {
   "cell_type": "code",
   "execution_count": 43,
   "id": "cc190cbb",
   "metadata": {},
   "outputs": [
    {
     "data": {
      "text/plain": [
       "0    233.0\n",
       "3    250.0\n",
       "4    204.0\n",
       "5    236.0\n",
       "7    354.0\n",
       "Name: chol, dtype: float64"
      ]
     },
     "execution_count": 43,
     "metadata": {},
     "output_type": "execute_result"
    }
   ],
   "source": [
    "chol_no_hd = heart.chol[heart.heart_disease == 'absence']\n",
    "chol_no_hd.head()"
   ]
  },
  {
   "cell_type": "markdown",
   "id": "f3d287fb",
   "metadata": {},
   "source": [
    "### Difference in mean cholestrol for patients diagnosed with heart disease compared to patients without heart disease"
   ]
  },
  {
   "cell_type": "code",
   "execution_count": 18,
   "id": "36e867ee",
   "metadata": {},
   "outputs": [
    {
     "name": "stdout",
     "output_type": "stream",
     "text": [
      "8.834576241445887\n"
     ]
    }
   ],
   "source": [
    "difference_in_mean = chol_hd.mean() - chol_no_hd.mean()\n",
    "difference_in_mean"
   ]
  },
  {
   "cell_type": "markdown",
   "id": "ddded633",
   "metadata": {},
   "source": [
    "### Difference in median cholestrol for patients diagnosed with heart disease compared to patients without heart disease"
   ]
  },
  {
   "cell_type": "code",
   "execution_count": 19,
   "id": "997cdf9f",
   "metadata": {},
   "outputs": [
    {
     "name": "stdout",
     "output_type": "stream",
     "text": [
      "14.5\n"
     ]
    }
   ],
   "source": [
    "difference_in_median = chol_hd.median() - chol_no_hd.median()\n",
    "difference_in_median"
   ]
  },
  {
   "cell_type": "markdown",
   "id": "f43e66a9",
   "metadata": {},
   "source": [
    "### Hypothesis to check if the average cholestrol of a heart disease patient is significantly different from the average cholestrol for a person without heart disease"
   ]
  },
  {
   "cell_type": "code",
   "execution_count": 44,
   "id": "81c5b021",
   "metadata": {},
   "outputs": [
    {
     "data": {
      "text/plain": [
       "0.13914167020436527"
      ]
     },
     "execution_count": 44,
     "metadata": {},
     "output_type": "execute_result"
    }
   ],
   "source": [
    "from scipy.stats import ttest_ind\n",
    "tstat, pval = ttest_ind(chol_hd, chol_no_hd)\n",
    "pval"
   ]
  },
  {
   "cell_type": "markdown",
   "id": "262f155a",
   "metadata": {},
   "source": [
    "### Box plots of thalach for each chest pain type"
   ]
  },
  {
   "cell_type": "code",
   "execution_count": 45,
   "id": "3c14089b",
   "metadata": {},
   "outputs": [
    {
     "data": {
      "image/png": "[encoded data removed]",
      "text/plain": [
       "<Figure size 432x288 with 1 Axes>"
      ]
     },
     "metadata": {
      "needs_background": "light"
     },
     "output_type": "display_data"
    }
   ],
   "source": [
    "plt.clf()\n",
    "sns.boxplot(data = heart, x = 'cp', y = 'thalach')\n",
    "plt.show()"
   ]
  },
  {
   "cell_type": "markdown",
   "id": "452550e5",
   "metadata": {},
   "source": [
    "### Filtering heart dataframe for values of thalach for patients who experienced typical chest pain "
   ]
  },
  {
   "cell_type": "code",
   "execution_count": 46,
   "id": "4535943d",
   "metadata": {},
   "outputs": [
    {
     "data": {
      "text/plain": [
       "0     150.0\n",
       "20    144.0\n",
       "21    162.0\n",
       "27    114.0\n",
       "30    151.0\n",
       "Name: thalach, dtype: float64"
      ]
     },
     "execution_count": 46,
     "metadata": {},
     "output_type": "execute_result"
    }
   ],
   "source": [
    "thalach_typical = heart.thalach[heart.cp == 'typical angina']\n",
    "thalach_typical.head()"
   ]
  },
  {
   "cell_type": "markdown",
   "id": "933b685c",
   "metadata": {},
   "source": [
    "### Filtering heart dataframe for values of thalach for patients who experienced asymptom chest pain"
   ]
  },
  {
   "cell_type": "code",
   "execution_count": 47,
   "id": "6a2ce12b",
   "metadata": {},
   "outputs": [
    {
     "data": {
      "text/plain": [
       "1    108.0\n",
       "2    129.0\n",
       "6    160.0\n",
       "7    163.0\n",
       "8    147.0\n",
       "Name: thalach, dtype: float64"
      ]
     },
     "execution_count": 47,
     "metadata": {},
     "output_type": "execute_result"
    }
   ],
   "source": [
    "thalach_asymptom = heart.thalach[heart.cp == 'asymptomatic']\n",
    "thalach_asymptom.head()"
   ]
  },
  {
   "cell_type": "markdown",
   "id": "dd456a9e",
   "metadata": {},
   "source": [
    "### Filtering heart dataframe for values of thalach for patients who experienced nonangin chest pain"
   ]
  },
  {
   "cell_type": "code",
   "execution_count": 48,
   "id": "67e54cbe",
   "metadata": {},
   "outputs": [
    {
     "data": {
      "text/plain": [
       "3     187.0\n",
       "12    142.0\n",
       "14    162.0\n",
       "15    174.0\n",
       "18    139.0\n",
       "Name: thalach, dtype: float64"
      ]
     },
     "execution_count": 48,
     "metadata": {},
     "output_type": "execute_result"
    }
   ],
   "source": [
    "thalach_nonangin = heart.thalach[heart.cp == 'non-anginal pain']\n",
    "thalach_nonangin.head()"
   ]
  },
  {
   "cell_type": "markdown",
   "id": "a1a4f097",
   "metadata": {},
   "source": [
    "###  Filtering heart dataframe for values of thalach for patients who experienced atypical chest pain"
   ]
  },
  {
   "cell_type": "code",
   "execution_count": 49,
   "id": "ba700b8e",
   "metadata": {},
   "outputs": [
    {
     "data": {
      "text/plain": [
       "4     172.0\n",
       "5     178.0\n",
       "11    153.0\n",
       "13    173.0\n",
       "16    168.0\n",
       "Name: thalach, dtype: float64"
      ]
     },
     "execution_count": 49,
     "metadata": {},
     "output_type": "execute_result"
    }
   ],
   "source": [
    "thalach_atypical = heart.thalach[heart.cp == 'atypical angina']\n",
    "thalach_atypical.head()"
   ]
  },
  {
   "cell_type": "markdown",
   "id": "a494dbc9",
   "metadata": {},
   "source": [
    "### Hypothesis to check if patients with typical angina, non-anginal pain, atypical angina, and asymptomatic people all have the same average thalach"
   ]
  },
  {
   "cell_type": "code",
   "execution_count": 50,
   "id": "c5680bbd",
   "metadata": {},
   "outputs": [
    {
     "data": {
      "text/plain": [
       "1.9065505247705008e-10"
      ]
     },
     "execution_count": 50,
     "metadata": {},
     "output_type": "execute_result"
    }
   ],
   "source": [
    "from scipy.stats import f_oneway\n",
    "fstat, pval = f_oneway(thalach_typical, thalach_atypical, thalach_nonangin, thalach_asymptom)\n",
    "pval"
   ]
  },
  {
   "cell_type": "code",
   "execution_count": 52,
   "id": "e91ed72f",
   "metadata": {},
   "outputs": [
    {
     "name": "stdout",
     "output_type": "stream",
     "text": [
      "           Multiple Comparison of Means - Tukey HSD, FWER=0.05           \n",
      "=========================================================================\n",
      "     group1           group2      meandiff p-adj   lower    upper  reject\n",
      "-------------------------------------------------------------------------\n",
      "    asymptomatic  atypical angina  21.7394  0.001  12.7439  30.735   True\n",
      "    asymptomatic non-anginal pain  14.7264  0.001    7.258 22.1948   True\n",
      "    asymptomatic   typical angina   15.276 0.0081   2.9702 27.5817   True\n",
      " atypical angina non-anginal pain   -7.013 0.2481 -16.7591   2.733  False\n",
      " atypical angina   typical angina  -6.4635 0.6069 -20.2707  7.3438  False\n",
      "non-anginal pain   typical angina   0.5495    0.9  -12.315 13.4141  False\n",
      "-------------------------------------------------------------------------\n"
     ]
    }
   ],
   "source": [
    "# Tukey’s range test to determine which pairs of chest pains are significantly different based on thalach\n",
    "from statsmodels.stats.multicomp import pairwise_tukeyhsd\n",
    "results = pairwise_tukeyhsd(endog = heart.thalach, groups = heart.cp)\n",
    "print(results)"
   ]
  },
  {
   "cell_type": "markdown",
   "id": "fa52fc52",
   "metadata": {},
   "source": [
    "### Contingency table of chest pain and heart disease"
   ]
  },
  {
   "cell_type": "code",
   "execution_count": 54,
   "id": "64c9ef62",
   "metadata": {},
   "outputs": [
    {
     "data": {
      "text/html": [
       "<div>\n",
       "<style scoped>\n",
       "    .dataframe tbody tr th:only-of-type {\n",
       "        vertical-align: middle;\n",
       "    }\n",
       "\n",
       "    .dataframe tbody tr th {\n",
       "        vertical-align: top;\n",
       "    }\n",
       "\n",
       "    .dataframe thead th {\n",
       "        text-align: right;\n",
       "    }\n",
       "</style>\n",
       "<table border=\"1\" class=\"dataframe\">\n",
       "  <thead>\n",
       "    <tr style=\"text-align: right;\">\n",
       "      <th>heart_disease</th>\n",
       "      <th>absence</th>\n",
       "      <th>presence</th>\n",
       "    </tr>\n",
       "    <tr>\n",
       "      <th>cp</th>\n",
       "      <th></th>\n",
       "      <th></th>\n",
       "    </tr>\n",
       "  </thead>\n",
       "  <tbody>\n",
       "    <tr>\n",
       "      <th>asymptomatic</th>\n",
       "      <td>39</td>\n",
       "      <td>105</td>\n",
       "    </tr>\n",
       "    <tr>\n",
       "      <th>atypical angina</th>\n",
       "      <td>41</td>\n",
       "      <td>9</td>\n",
       "    </tr>\n",
       "    <tr>\n",
       "      <th>non-anginal pain</th>\n",
       "      <td>68</td>\n",
       "      <td>18</td>\n",
       "    </tr>\n",
       "    <tr>\n",
       "      <th>typical angina</th>\n",
       "      <td>16</td>\n",
       "      <td>7</td>\n",
       "    </tr>\n",
       "  </tbody>\n",
       "</table>\n",
       "</div>"
      ],
      "text/plain": [
       "heart_disease     absence  presence\n",
       "cp                                 \n",
       "asymptomatic           39       105\n",
       "atypical angina        41         9\n",
       "non-anginal pain       68        18\n",
       "typical angina         16         7"
      ]
     },
     "execution_count": 54,
     "metadata": {},
     "output_type": "execute_result"
    }
   ],
   "source": [
    "from scipy.stats import chi2_contingency\n",
    "Xtab = pd.crosstab(heart.cp, heart.heart_disease)\n",
    "Xtab"
   ]
  },
  {
   "cell_type": "markdown",
   "id": "ecac9241",
   "metadata": {},
   "source": [
    "### Hypothesis to check if there is an association between chest pain type and whether or not someone is diagnosed with heart disease."
   ]
  },
  {
   "cell_type": "code",
   "execution_count": 55,
   "id": "05dc9810",
   "metadata": {},
   "outputs": [
    {
     "data": {
      "text/plain": [
       "1.2517106007837527e-17"
      ]
     },
     "execution_count": 55,
     "metadata": {},
     "output_type": "execute_result"
    }
   ],
   "source": [
    "chi2, pval, dof, expected = chi2_contingency(Xtab)\n",
    "pval"
   ]
  },
  {
   "cell_type": "code",
   "execution_count": null,
   "id": "e3e60571",
   "metadata": {},
   "outputs": [],
   "source": []
  }
 ],
 "metadata": {
  "kernelspec": {
   "display_name": "Python 3",
   "language": "python",
   "name": "python3"
  },
  "language_info": {
   "codemirror_mode": {
    "name": "ipython",
    "version": 3
   },
   "file_extension": ".py",
   "mimetype": "text/x-python",
   "name": "python",
   "nbconvert_exporter": "python",
   "pygments_lexer": "ipython3",
   "version": "3.8.8"
  }
 },
 "nbformat": 4,
 "nbformat_minor": 5
}
